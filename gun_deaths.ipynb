{
 "cells": [
  {
   "cell_type": "markdown",
   "metadata": {},
   "source": [
    "# Analyzing Gun Deaths in the US"
   ]
  },
  {
   "cell_type": "markdown",
   "metadata": {},
   "source": [
    "## About the Dataset\n",
    "\n",
    "The dataset came from FiveThirtyEight. The dataset is stored in the guns.csv file. It contains information on gun deaths in the US from 2012 to 2014. Each row in the dataset represents a single fatality. The columns contain demographic and other information about the victim.\n",
    "\n",
    "The first row of the data is a header row, which tells you what kind of data is in each column of the CSV file. Each row contains information about the fatality, and the victim. Here's an explanation of each column:\n",
    "\n",
    "1. \"\" -- this is an identifier column, which contains the row number. It's common in CSV files to include a unique identifier for each row, but we can ignore it in this analysis.\n",
    "2. year -- the year in which the fatality occurred.\n",
    "3. month -- the month in which the fatality occurred.\n",
    "4. intent -- the intent of the perpetrator of the crime. This can be Suicide, Accidental, NA, Homicide, or Undetermined.\n",
    "5. police -- whether a police officer was involved with the shooting. Either 0 (false) or 1 (true).\n",
    "6. sex -- the gender of the victim. Either M or F.\n",
    "7. age -- the age of the victim.\n",
    "8. race -- the race of the victim. Either Asian/Pacific Islander, Native American/Native Alaskan, Black, Hispanic, or White.\n",
    "9. hispanic -- a code indicating the Hispanic origin of the victim.\n",
    "10. place -- where the shooting occurred. Has several categories, which you're encouraged to explore on your own.\n",
    "11. education -- educational status of the victim. Can be one of the following:\n",
    "    1 -- Less than High School\n",
    "    2 -- Graduated from High School or equivalent\n",
    "    3 -- Some College\n",
    "    4 -- At least graduated from College\n",
    "    5 -- Not available"
   ]
  },
  {
   "cell_type": "markdown",
   "metadata": {},
   "source": [
    "## Importing US Gun Deaths Data as Lists"
   ]
  },
  {
   "cell_type": "code",
   "execution_count": 7,
   "metadata": {
    "collapsed": false,
    "scrolled": false
   },
   "outputs": [
    {
     "data": {
      "text/plain": [
       "[['',\n",
       "  'year',\n",
       "  'month',\n",
       "  'intent',\n",
       "  'police',\n",
       "  'sex',\n",
       "  'age',\n",
       "  'race',\n",
       "  'hispanic',\n",
       "  'place',\n",
       "  'education'],\n",
       " ['1',\n",
       "  '2012',\n",
       "  '01',\n",
       "  'Suicide',\n",
       "  '0',\n",
       "  'M',\n",
       "  '34',\n",
       "  'Asian/Pacific Islander',\n",
       "  '100',\n",
       "  'Home',\n",
       "  '4'],\n",
       " ['2', '2012', '01', 'Suicide', '0', 'F', '21', 'White', '100', 'Street', '3'],\n",
       " ['3',\n",
       "  '2012',\n",
       "  '01',\n",
       "  'Suicide',\n",
       "  '0',\n",
       "  'M',\n",
       "  '60',\n",
       "  'White',\n",
       "  '100',\n",
       "  'Other specified',\n",
       "  '4'],\n",
       " ['4', '2012', '02', 'Suicide', '0', 'M', '64', 'White', '100', 'Home', '4']]"
      ]
     },
     "execution_count": 7,
     "metadata": {},
     "output_type": "execute_result"
    }
   ],
   "source": [
    "import csv\n",
    "data = list(csv.reader(open(\"gun_deaths.csv\",'r')))\n",
    "data[:5]"
   ]
  },
  {
   "cell_type": "markdown",
   "metadata": {
    "collapsed": true
   },
   "source": [
    "## Removing Headers"
   ]
  },
  {
   "cell_type": "code",
   "execution_count": 8,
   "metadata": {
    "collapsed": false,
    "scrolled": false
   },
   "outputs": [
    {
     "data": {
      "text/plain": [
       "[['1',\n",
       "  '2012',\n",
       "  '01',\n",
       "  'Suicide',\n",
       "  '0',\n",
       "  'M',\n",
       "  '34',\n",
       "  'Asian/Pacific Islander',\n",
       "  '100',\n",
       "  'Home',\n",
       "  '4'],\n",
       " ['2', '2012', '01', 'Suicide', '0', 'F', '21', 'White', '100', 'Street', '3'],\n",
       " ['3',\n",
       "  '2012',\n",
       "  '01',\n",
       "  'Suicide',\n",
       "  '0',\n",
       "  'M',\n",
       "  '60',\n",
       "  'White',\n",
       "  '100',\n",
       "  'Other specified',\n",
       "  '4'],\n",
       " ['4', '2012', '02', 'Suicide', '0', 'M', '64', 'White', '100', 'Home', '4'],\n",
       " ['5',\n",
       "  '2012',\n",
       "  '02',\n",
       "  'Suicide',\n",
       "  '0',\n",
       "  'M',\n",
       "  '31',\n",
       "  'White',\n",
       "  '100',\n",
       "  'Other specified',\n",
       "  '2']]"
      ]
     },
     "execution_count": 8,
     "metadata": {},
     "output_type": "execute_result"
    }
   ],
   "source": [
    "headers = data[0]\n",
    "data = data[1:]\n",
    "data[:5]"
   ]
  },
  {
   "cell_type": "markdown",
   "metadata": {},
   "source": [
    "## Gun Deaths by Year"
   ]
  },
  {
   "cell_type": "code",
   "execution_count": 9,
   "metadata": {
    "collapsed": false
   },
   "outputs": [
    {
     "data": {
      "text/plain": [
       "{'2012': 33563, '2013': 33636, '2014': 33599}"
      ]
     },
     "execution_count": 9,
     "metadata": {},
     "output_type": "execute_result"
    }
   ],
   "source": [
    "years = [row[1] for row in data]\n",
    "year_counts = {}\n",
    "for yr in years:\n",
    "    if yr in year_counts:\n",
    "        year_counts[yr] += 1\n",
    "    else:\n",
    "        year_counts[yr] = 1\n",
    "year_counts"
   ]
  },
  {
   "cell_type": "markdown",
   "metadata": {},
   "source": [
    "## Gun Deaths by Month and Year"
   ]
  },
  {
   "cell_type": "code",
   "execution_count": 10,
   "metadata": {
    "collapsed": false,
    "scrolled": false
   },
   "outputs": [
    {
     "name": "stdout",
     "output_type": "stream",
     "text": [
      "[datetime.datetime(2012, 1, 1, 0, 0), datetime.datetime(2012, 1, 1, 0, 0), datetime.datetime(2012, 1, 1, 0, 0), datetime.datetime(2012, 2, 1, 0, 0), datetime.datetime(2012, 2, 1, 0, 0)]\n"
     ]
    },
    {
     "data": {
      "text/plain": [
       "{'2012-01': 2758,\n",
       " '2012-02': 2357,\n",
       " '2012-03': 2743,\n",
       " '2012-04': 2795,\n",
       " '2012-05': 2999,\n",
       " '2012-06': 2826,\n",
       " '2012-07': 3026,\n",
       " '2012-08': 2954,\n",
       " '2012-09': 2852,\n",
       " '2012-10': 2733,\n",
       " '2012-11': 2729,\n",
       " '2012-12': 2791,\n",
       " '2013-01': 2864,\n",
       " '2013-02': 2375,\n",
       " '2013-03': 2862,\n",
       " '2013-04': 2798,\n",
       " '2013-05': 2806,\n",
       " '2013-06': 2920,\n",
       " '2013-07': 3079,\n",
       " '2013-08': 2859,\n",
       " '2013-09': 2742,\n",
       " '2013-10': 2808,\n",
       " '2013-11': 2758,\n",
       " '2013-12': 2765,\n",
       " '2014-01': 2651,\n",
       " '2014-02': 2361,\n",
       " '2014-03': 2684,\n",
       " '2014-04': 2862,\n",
       " '2014-05': 2864,\n",
       " '2014-06': 2931,\n",
       " '2014-07': 2884,\n",
       " '2014-08': 2970,\n",
       " '2014-09': 2914,\n",
       " '2014-10': 2865,\n",
       " '2014-11': 2756,\n",
       " '2014-12': 2857}"
      ]
     },
     "execution_count": 10,
     "metadata": {},
     "output_type": "execute_result"
    }
   ],
   "source": [
    "import datetime\n",
    "dates = [datetime.datetime(year=int(row[1]), month=int(row[2]), day=1) for row in data]\n",
    "print(dates[:5])\n",
    "date_counts = {}\n",
    "for date in dates:\n",
    "    date_str = date.strftime(\"%Y-%m\")\n",
    "    if date_str in date_counts:\n",
    "        date_counts[date_str] += 1\n",
    "    else:\n",
    "        date_counts[date_str] = 1\n",
    "date_counts"
   ]
  },
  {
   "cell_type": "markdown",
   "metadata": {},
   "source": [
    "## Gun Deaths by Race and Sex"
   ]
  },
  {
   "cell_type": "code",
   "execution_count": 11,
   "metadata": {
    "collapsed": false
   },
   "outputs": [
    {
     "name": "stdout",
     "output_type": "stream",
     "text": [
      "{'F': 14449, 'M': 86349}\n"
     ]
    },
    {
     "data": {
      "text/plain": [
       "{'Asian/Pacific Islander': 1326,\n",
       " 'Black': 23296,\n",
       " 'Hispanic': 9022,\n",
       " 'Native American/Native Alaskan': 917,\n",
       " 'White': 66237}"
      ]
     },
     "execution_count": 11,
     "metadata": {},
     "output_type": "execute_result"
    }
   ],
   "source": [
    "sex_counts = {}\n",
    "race_counts = {}\n",
    "for row in data:\n",
    "    if row[5] in sex_counts:\n",
    "        sex_counts[row[5]] += 1\n",
    "    else:\n",
    "        sex_counts[row[5]] = 1\n",
    "    if row[7] in race_counts:\n",
    "        race_counts[row[7]] += 1\n",
    "    else:\n",
    "        race_counts[row[7]] = 1\n",
    "print(sex_counts)\n",
    "race_counts"
   ]
  },
  {
   "cell_type": "markdown",
   "metadata": {},
   "source": [
    "## Analysis so far\n",
    "\n",
    "Gun death counts by year and month do not indicate any significant trends.\n",
    "\n",
    "Male gun death victims are relatively much higher.\n",
    "\n",
    "White and Black gun death victims are much higher when compared to the other races."
   ]
  },
  {
   "cell_type": "markdown",
   "metadata": {},
   "source": [
    "## Importing census data"
   ]
  },
  {
   "cell_type": "code",
   "execution_count": 12,
   "metadata": {
    "collapsed": false,
    "scrolled": false
   },
   "outputs": [
    {
     "data": {
      "text/plain": [
       "[['Id',\n",
       "  'Year',\n",
       "  'Id',\n",
       "  'Sex',\n",
       "  'Id',\n",
       "  'Hispanic Origin',\n",
       "  'Id',\n",
       "  'Id2',\n",
       "  'Geography',\n",
       "  'Total',\n",
       "  'Race Alone - White',\n",
       "  'Race Alone - Hispanic',\n",
       "  'Race Alone - Black or African American',\n",
       "  'Race Alone - American Indian and Alaska Native',\n",
       "  'Race Alone - Asian',\n",
       "  'Race Alone - Native Hawaiian and Other Pacific Islander',\n",
       "  'Two or More Races'],\n",
       " ['cen42010',\n",
       "  'April 1, 2010 Census',\n",
       "  'totsex',\n",
       "  'Both Sexes',\n",
       "  'tothisp',\n",
       "  'Total',\n",
       "  '0100000US',\n",
       "  '',\n",
       "  'United States',\n",
       "  '308745538',\n",
       "  '197318956',\n",
       "  '44618105',\n",
       "  '40250635',\n",
       "  '3739506',\n",
       "  '15159516',\n",
       "  '674625',\n",
       "  '6984195']]"
      ]
     },
     "execution_count": 12,
     "metadata": {},
     "output_type": "execute_result"
    }
   ],
   "source": [
    "census = list(csv.reader(open(\"gun_census.csv\",'r')))\n",
    "census"
   ]
  },
  {
   "cell_type": "markdown",
   "metadata": {},
   "source": [
    "## Gun Deaths per 100000 of each Race"
   ]
  },
  {
   "cell_type": "code",
   "execution_count": 13,
   "metadata": {
    "collapsed": false
   },
   "outputs": [
    {
     "data": {
      "text/plain": [
       "{'Asian/Pacific Islander': 8.374309664161762,\n",
       " 'Black': 57.8773477735196,\n",
       " 'Hispanic': 20.220491210910907,\n",
       " 'Native American/Native Alaskan': 24.521955573811088,\n",
       " 'White': 33.56849303419181}"
      ]
     },
     "execution_count": 13,
     "metadata": {},
     "output_type": "execute_result"
    }
   ],
   "source": [
    "mapping = {\n",
    "    'Asian/Pacific Islander': 15834141,\n",
    "    'Black': 40250635,\n",
    "    'Native American/Native Alaskan': 3739506,\n",
    "    'Hispanic': 44618105,\n",
    "    'White': 197318956,\n",
    "}\n",
    "race_per_hundredk = {}\n",
    "for race in race_counts:\n",
    "    race_per_hundredk[race] = race_counts[race]/mapping[race]*100000\n",
    "race_per_hundredk"
   ]
  },
  {
   "cell_type": "markdown",
   "metadata": {},
   "source": [
    "## Guns Death per 100000 by Race and 'Homicide' Intent"
   ]
  },
  {
   "cell_type": "code",
   "execution_count": 14,
   "metadata": {
    "collapsed": false
   },
   "outputs": [
    {
     "data": {
      "text/plain": [
       "{'Asian/Pacific Islander': 3.530346230970155,\n",
       " 'Black': 48.471284987180944,\n",
       " 'Hispanic': 12.627161104219914,\n",
       " 'Native American/Native Alaskan': 8.717729026240365,\n",
       " 'White': 4.6356417981453335}"
      ]
     },
     "execution_count": 14,
     "metadata": {},
     "output_type": "execute_result"
    }
   ],
   "source": [
    "intents = [row[3] for row in data]\n",
    "races = [row[7] for row in data]\n",
    "homicide_race_per_hundredk = {}\n",
    "for i,race in enumerate(races):\n",
    "    if intents[i] == 'Homicide':\n",
    "        if race in homicide_race_per_hundredk:\n",
    "            homicide_race_per_hundredk[race] += 1\n",
    "        else:\n",
    "            homicide_race_per_hundredk[race] = 1\n",
    "for race in homicide_race_per_hundredk:\n",
    "    homicide_race_per_hundredk[race] = homicide_race_per_hundredk[race]/mapping[race]*100000\n",
    "homicide_race_per_hundredk"
   ]
  },
  {
   "cell_type": "markdown",
   "metadata": {},
   "source": [
    "## Homicide counts by month"
   ]
  },
  {
   "cell_type": "code",
   "execution_count": 15,
   "metadata": {
    "collapsed": false,
    "scrolled": false
   },
   "outputs": [
    {
     "data": {
      "text/plain": [
       "{'2012-01': 972,\n",
       " '2012-02': 749,\n",
       " '2012-03': 966,\n",
       " '2012-04': 999,\n",
       " '2012-05': 1003,\n",
       " '2012-06': 1044,\n",
       " '2012-07': 1160,\n",
       " '2012-08': 1090,\n",
       " '2012-09': 1070,\n",
       " '2012-10': 979,\n",
       " '2012-11': 978,\n",
       " '2012-12': 1083,\n",
       " '2013-01': 986,\n",
       " '2013-02': 721,\n",
       " '2013-03': 923,\n",
       " '2013-04': 916,\n",
       " '2013-05': 955,\n",
       " '2013-06': 1066,\n",
       " '2013-07': 1137,\n",
       " '2013-08': 1000,\n",
       " '2013-09': 954,\n",
       " '2013-10': 1009,\n",
       " '2013-11': 979,\n",
       " '2013-12': 1028,\n",
       " '2014-01': 871,\n",
       " '2014-02': 708,\n",
       " '2014-03': 891,\n",
       " '2014-04': 930,\n",
       " '2014-05': 1018,\n",
       " '2014-06': 1020,\n",
       " '2014-07': 972,\n",
       " '2014-08': 1035,\n",
       " '2014-09': 942,\n",
       " '2014-10': 980,\n",
       " '2014-11': 962,\n",
       " '2014-12': 1080}"
      ]
     },
     "execution_count": 15,
     "metadata": {},
     "output_type": "execute_result"
    }
   ],
   "source": [
    "homicide_month_count = {}\n",
    "for i,date in enumerate(dates):\n",
    "    if intents[i] == 'Homicide':\n",
    "        date_str = date.strftime(\"%Y-%m\")\n",
    "        if date_str in homicide_month_count:\n",
    "            homicide_month_count[date_str] += 1\n",
    "        else:\n",
    "            homicide_month_count[date_str] = 1\n",
    "homicide_month_count"
   ]
  },
  {
   "cell_type": "markdown",
   "metadata": {
    "collapsed": true
   },
   "source": [
    "## Homicides by Gender"
   ]
  },
  {
   "cell_type": "code",
   "execution_count": 16,
   "metadata": {
    "collapsed": false
   },
   "outputs": [
    {
     "data": {
      "text/plain": [
       "{'F': 5373, 'M': 29803}"
      ]
     },
     "execution_count": 16,
     "metadata": {},
     "output_type": "execute_result"
    }
   ],
   "source": [
    "genders = [row[5] for row in data]\n",
    "homicide_gender_count = {}\n",
    "for i,gender in enumerate(genders):\n",
    "    if intents[i] == 'Homicide':\n",
    "        if gender in homicide_gender_count:\n",
    "            homicide_gender_count[gender] += 1\n",
    "        else:\n",
    "            homicide_gender_count[gender] = 1\n",
    "homicide_gender_count"
   ]
  },
  {
   "cell_type": "markdown",
   "metadata": {},
   "source": [
    "## Gun Deaths by Intent"
   ]
  },
  {
   "cell_type": "code",
   "execution_count": 17,
   "metadata": {
    "collapsed": false
   },
   "outputs": [
    {
     "data": {
      "text/plain": [
       "{'Accidental': 1639,\n",
       " 'Homicide': 35176,\n",
       " 'NA': 1,\n",
       " 'Suicide': 63175,\n",
       " 'Undetermined': 807}"
      ]
     },
     "execution_count": 17,
     "metadata": {},
     "output_type": "execute_result"
    }
   ],
   "source": [
    "intents_count = {}\n",
    "for row in data:\n",
    "    intent = row[3] \n",
    "    if intent in intents_count:\n",
    "        intents_count[intent] += 1\n",
    "    else:\n",
    "        intents_count[intent] = 1\n",
    "intents_count"
   ]
  },
  {
   "cell_type": "markdown",
   "metadata": {},
   "source": [
    "## Gun Deaths by Location"
   ]
  },
  {
   "cell_type": "code",
   "execution_count": 18,
   "metadata": {
    "collapsed": false
   },
   "outputs": [
    {
     "data": {
      "text/plain": [
       "{'Farm': 470,\n",
       " 'Home': 60486,\n",
       " 'Industrial/construction': 248,\n",
       " 'NA': 1384,\n",
       " 'Other specified': 13751,\n",
       " 'Other unspecified': 8867,\n",
       " 'Residential institution': 203,\n",
       " 'School/instiution': 671,\n",
       " 'Sports': 128,\n",
       " 'Street': 11151,\n",
       " 'Trade/service area': 3439}"
      ]
     },
     "execution_count": 18,
     "metadata": {},
     "output_type": "execute_result"
    }
   ],
   "source": [
    "locations_count = {}\n",
    "for row in data:\n",
    "    location = row[9] \n",
    "    if location in locations_count:\n",
    "        locations_count[location] += 1\n",
    "    else:\n",
    "        locations_count[location] = 1\n",
    "locations_count"
   ]
  },
  {
   "cell_type": "markdown",
   "metadata": {},
   "source": [
    "## Gun Deaths by Education"
   ]
  },
  {
   "cell_type": "code",
   "execution_count": 19,
   "metadata": {
    "collapsed": false
   },
   "outputs": [
    {
     "data": {
      "text/plain": [
       "{'1': 21823, '2': 42927, '3': 21680, '4': 12946, '5': 1369, 'NA': 53}"
      ]
     },
     "execution_count": 19,
     "metadata": {},
     "output_type": "execute_result"
    }
   ],
   "source": [
    "education_count = {}\n",
    "for row in data:\n",
    "    education = row[10] \n",
    "    if education in education_count:\n",
    "        education_count[education] += 1\n",
    "    else:\n",
    "        education_count[education] = 1\n",
    "education_count"
   ]
  },
  {
   "cell_type": "markdown",
   "metadata": {},
   "source": [
    "## Gun Deaths by Age"
   ]
  },
  {
   "cell_type": "code",
   "execution_count": 20,
   "metadata": {
    "collapsed": false,
    "scrolled": false
   },
   "outputs": [
    {
     "data": {
      "text/plain": [
       "{'0': 33,\n",
       " '1': 38,\n",
       " '10': 53,\n",
       " '100': 1,\n",
       " '101': 2,\n",
       " '102': 2,\n",
       " '107': 1,\n",
       " '11': 61,\n",
       " '12': 117,\n",
       " '13': 229,\n",
       " '14': 364,\n",
       " '15': 561,\n",
       " '16': 864,\n",
       " '17': 1185,\n",
       " '18': 1753,\n",
       " '19': 2065,\n",
       " '2': 50,\n",
       " '20': 2219,\n",
       " '21': 2504,\n",
       " '22': 2712,\n",
       " '23': 2472,\n",
       " '24': 2437,\n",
       " '25': 2230,\n",
       " '26': 2231,\n",
       " '27': 2070,\n",
       " '28': 1986,\n",
       " '29': 1955,\n",
       " '3': 66,\n",
       " '30': 1869,\n",
       " '31': 1833,\n",
       " '32': 1824,\n",
       " '33': 1700,\n",
       " '34': 1699,\n",
       " '35': 1631,\n",
       " '36': 1512,\n",
       " '37': 1500,\n",
       " '38': 1491,\n",
       " '39': 1389,\n",
       " '4': 54,\n",
       " '40': 1414,\n",
       " '41': 1485,\n",
       " '42': 1492,\n",
       " '43': 1527,\n",
       " '44': 1449,\n",
       " '45': 1372,\n",
       " '46': 1437,\n",
       " '47': 1532,\n",
       " '48': 1621,\n",
       " '49': 1669,\n",
       " '5': 43,\n",
       " '50': 1674,\n",
       " '51': 1755,\n",
       " '52': 1715,\n",
       " '53': 1708,\n",
       " '54': 1684,\n",
       " '55': 1596,\n",
       " '56': 1625,\n",
       " '57': 1472,\n",
       " '58': 1510,\n",
       " '59': 1430,\n",
       " '6': 50,\n",
       " '60': 1361,\n",
       " '61': 1306,\n",
       " '62': 1099,\n",
       " '63': 1041,\n",
       " '64': 1126,\n",
       " '65': 1039,\n",
       " '66': 998,\n",
       " '67': 865,\n",
       " '68': 868,\n",
       " '69': 879,\n",
       " '7': 43,\n",
       " '70': 883,\n",
       " '71': 791,\n",
       " '72': 736,\n",
       " '73': 737,\n",
       " '74': 671,\n",
       " '75': 676,\n",
       " '76': 582,\n",
       " '77': 575,\n",
       " '78': 598,\n",
       " '79': 573,\n",
       " '8': 32,\n",
       " '80': 546,\n",
       " '81': 563,\n",
       " '82': 520,\n",
       " '83': 552,\n",
       " '84': 490,\n",
       " '85': 440,\n",
       " '86': 407,\n",
       " '87': 312,\n",
       " '88': 340,\n",
       " '89': 245,\n",
       " '9': 47,\n",
       " '90': 208,\n",
       " '91': 176,\n",
       " '92': 128,\n",
       " '93': 103,\n",
       " '94': 64,\n",
       " '95': 55,\n",
       " '96': 40,\n",
       " '97': 20,\n",
       " '98': 16,\n",
       " '99': 6,\n",
       " 'NA': 18}"
      ]
     },
     "execution_count": 20,
     "metadata": {},
     "output_type": "execute_result"
    }
   ],
   "source": [
    "age_count = {}\n",
    "for row in data:\n",
    "    age = row[6] \n",
    "    if age in age_count:\n",
    "        age_count[age] += 1\n",
    "    else:\n",
    "        age_count[age] = 1\n",
    "age_count"
   ]
  }
 ],
 "metadata": {
  "anaconda-cloud": {},
  "kernelspec": {
   "display_name": "Python [default]",
   "language": "python",
   "name": "python3"
  },
  "language_info": {
   "codemirror_mode": {
    "name": "ipython",
    "version": 3
   },
   "file_extension": ".py",
   "mimetype": "text/x-python",
   "name": "python",
   "nbconvert_exporter": "python",
   "pygments_lexer": "ipython3",
   "version": "3.5.2"
  }
 },
 "nbformat": 4,
 "nbformat_minor": 0
}
